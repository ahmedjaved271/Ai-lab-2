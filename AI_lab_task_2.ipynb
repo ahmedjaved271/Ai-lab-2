{
  "nbformat": 4,
  "nbformat_minor": 0,
  "metadata": {
    "colab": {
      "provenance": []
    },
    "kernelspec": {
      "name": "python3",
      "display_name": "Python 3"
    },
    "language_info": {
      "name": "python"
    }
  },
  "cells": [
    {
      "cell_type": "code",
      "source": [
        "def get_fizz_buzz_value(num):\n",
        "    if num % 3 == 0 and num % 5 == 0:\n",
        "        return \"FizzBuzz\"\n",
        "    elif num % 3 == 0:\n",
        "        return \"Fizz\"\n",
        "    elif num % 5 == 0:\n",
        "        return \"Buzz\"\n",
        "    else:\n",
        "      return str(num)\n",
        "\n",
        "def fizz_buzz_game(max_number):\n",
        "    current_player = 1\n",
        "\n",
        "    for num in range(1, max_number + 1):\n",
        "      if current_player == 1:\n",
        "          correct_answer = get_fizz_buzz_value(num)\n",
        "          user_input = input(f\"Your turn! Enter your answer for {num}: \")\n",
        "\n",
        "          if user_input.strip() == correct_answer:\n",
        "            print(f\"Correct! {user_input}\")\n",
        "          else:\n",
        "            print(f\"Incorrect. The correct answer is {correct_answer} YOu lose the game\")\n",
        "            return\n",
        "          current_player = 2\n",
        "      else:\n",
        "        system_answer = get_fizz_buzz_value(num)\n",
        "        print(f\"System answer for {num}: {system_answer}\")\n",
        "        current_player = 1\n",
        "\n",
        "    print(\"Congratulations! You won the game!\")\n",
        "\n",
        "max_number = int(input(\"Enter the maximum number for the game: \"))\n",
        "fizz_buzz_game(max_number)\n",
        "\n",
        "\n"
      ],
      "metadata": {
        "colab": {
          "base_uri": "https://localhost:8080/"
        },
        "id": "25HF4sNE7hgQ",
        "outputId": "f021f14a-4058-43a1-a3be-821f352362fc"
      },
      "execution_count": 1,
      "outputs": [
        {
          "output_type": "stream",
          "name": "stdout",
          "text": [
            "Enter the maximum number for the game: 30\n",
            "Your turn! Enter your answer for 1: 1\n",
            "Correct! 1\n",
            "System answer for 2: 2\n",
            "Your turn! Enter your answer for 3: Fizz\n",
            "Correct! Fizz\n",
            "System answer for 4: 4\n",
            "Your turn! Enter your answer for 5: Buzz\n",
            "Correct! Buzz\n",
            "System answer for 6: Fizz\n",
            "Your turn! Enter your answer for 7: 7\n",
            "Correct! 7\n",
            "System answer for 8: 8\n",
            "Your turn! Enter your answer for 9: Fizz\n",
            "Correct! Fizz\n",
            "System answer for 10: Buzz\n",
            "Your turn! Enter your answer for 11: 11\n",
            "Correct! 11\n",
            "System answer for 12: Fizz\n",
            "Your turn! Enter your answer for 13: Fizz\n",
            "Incorrect. The correct answer is 13 YOu lose the game\n"
          ]
        }
      ]
    },
    {
      "cell_type": "code",
      "source": [],
      "metadata": {
        "id": "wmDMUZIr-aK_"
      },
      "execution_count": null,
      "outputs": []
    }
  ]
}